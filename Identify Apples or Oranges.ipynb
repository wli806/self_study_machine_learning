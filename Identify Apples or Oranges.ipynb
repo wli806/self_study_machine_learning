{
 "cells": [
  {
   "cell_type": "code",
   "execution_count": 6,
   "id": "264f8e3f",
   "metadata": {},
   "outputs": [],
   "source": [
    "from sklearn import tree"
   ]
  },
  {
   "cell_type": "code",
   "execution_count": 7,
   "id": "cdc1b0de",
   "metadata": {},
   "outputs": [],
   "source": [
    "features = [[140,'smooth'],[130,'smooth'],[150,'bumpy'],[170,'bumpy']]\n",
    "labels = ['apple','apple','orange','orange'] "
   ]
  },
  {
   "cell_type": "code",
   "execution_count": 8,
   "id": "05c973e3",
   "metadata": {},
   "outputs": [
    {
     "data": {
      "text/plain": "([[140, '1'], [130, '1'], [150, '0'], [170, '0']], ['0', '0', '1', '1'])"
     },
     "execution_count": 3,
     "metadata": {},
     "output_type": "execute_result"
    },
    {
     "data": {
      "text/plain": "([[140, '1'], [130, '1'], [150, '0'], [170, '0']], ['0', '0', '1', '1'])"
     },
     "execution_count": 8,
     "metadata": {},
     "output_type": "execute_result"
    }
   ],
   "source": [
    "# Change all features to int thus could clearly identify all features\n",
    "features = [[140,'1'],[130,'1'],[150,'0'],[170,'0']] # 0 for bumpy 1 for smooth\n",
    "labels = ['0','0','1','1']  # 0 for apple 1 for orange\n",
    "features, labels"
   ]
  },
  {
   "cell_type": "code",
   "execution_count": 9,
   "id": "0ad6a806",
   "metadata": {},
   "outputs": [],
   "source": [
    "# use learning algorithm\n",
    "clf = tree.DecisionTreeClassifier()\n",
    "clf = clf.fit(features, labels)\n"
   ]
  },
  {
   "cell_type": "code",
   "execution_count": 10,
   "id": "6a0ff352",
   "metadata": {},
   "outputs": [
    {
     "name": "stdout",
     "output_type": "stream",
     "text": [
      "['1']\n",
      "['1']\n"
     ]
    }
   ],
   "source": [
    "print(clf.predict([[150,0]]))"
   ]
  },
  {
   "cell_type": "code",
   "execution_count": 10,
   "id": "c471efcc",
   "metadata": {},
   "outputs": [],
   "source": []
  }
 ],
 "metadata": {
  "kernelspec": {
   "display_name": "Python 3 (ipykernel)",
   "language": "python",
   "name": "python3"
  },
  "language_info": {
   "codemirror_mode": {
    "name": "ipython",
    "version": 3
   },
   "file_extension": ".py",
   "mimetype": "text/x-python",
   "name": "python",
   "nbconvert_exporter": "python",
   "pygments_lexer": "ipython3",
   "version": "3.9.13"
  }
 },
 "nbformat": 4,
 "nbformat_minor": 5
}
